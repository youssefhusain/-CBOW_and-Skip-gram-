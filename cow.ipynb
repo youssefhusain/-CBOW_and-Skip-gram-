{
  "nbformat": 4,
  "nbformat_minor": 0,
  "metadata": {
    "colab": {
      "provenance": []
    },
    "kernelspec": {
      "name": "python3",
      "display_name": "Python 3"
    },
    "language_info": {
      "name": "python"
    }
  },
  "cells": [
    {
      "cell_type": "code",
      "execution_count": 3,
      "metadata": {
        "colab": {
          "base_uri": "https://localhost:8080/"
        },
        "id": "YYjFqpXLRe0l",
        "outputId": "678aaff3-bc6c-485a-bce9-74b1f7276e2d"
      },
      "outputs": [
        {
          "output_type": "stream",
          "name": "stdout",
          "text": [
            "[==================================================] 100.0% 128.1/128.1MB downloaded\n"
          ]
        }
      ],
      "source": [
        "import gensim.downloader as app\n",
        "import numpy as np\n",
        "model = app.load('glove-wiki-gigaword-100')"
      ]
    },
    {
      "cell_type": "code",
      "source": [
        "def get_similar_words_by_context(model, input, topn=5):\n",
        "    \"\"\"\n",
        "    cow >>>>>>>>>>>>>>>get_similar_words_by_context\n",
        "  \"\"\"\n",
        "    valid_words = [word for word in input if word in model]\n",
        "    if not valid_words:\n",
        "        return\n",
        "    avg_vector = np.mean([model[word] for word in valid_words], axis=0)\n",
        "    return model.similar_by_vector(avg_vector, topn=topn)\n",
        "get_similar_words_by_context(model, [\"ali\",\"man\"], topn=5)\n"
      ],
      "metadata": {
        "colab": {
          "base_uri": "https://localhost:8080/"
        },
        "id": "MNVJult5R-Ku",
        "outputId": "4f1b1d9d-2193-4736-bcd0-6a9362f42370"
      },
      "execution_count": 4,
      "outputs": [
        {
          "output_type": "execute_result",
          "data": {
            "text/plain": [
              "[('ali', 0.8719844222068787),\n",
              " ('man', 0.811701238155365),\n",
              " ('mohammed', 0.7262973785400391),\n",
              " ('brother', 0.7243055701255798),\n",
              " ('muhammad', 0.6844232678413391)]"
            ]
          },
          "metadata": {},
          "execution_count": 4
        }
      ]
    },
    {
      "cell_type": "code",
      "source": [
        "def skip_gram(model,word):\n",
        "    result = []\n",
        "    result.append(model.most_similar(word,topn=5))\n",
        "    return result\n",
        "skip_gram(model,\"engineers\")"
      ],
      "metadata": {
        "colab": {
          "base_uri": "https://localhost:8080/"
        },
        "id": "t5V4wKDMbhNn",
        "outputId": "851ee1ca-101c-4edf-a4b6-3c547cd819f4"
      },
      "execution_count": 10,
      "outputs": [
        {
          "output_type": "execute_result",
          "data": {
            "text/plain": [
              "[[('technicians', 0.8209725022315979),\n",
              "  ('engineer', 0.7049852013587952),\n",
              "  ('engineering', 0.6870967149734497),\n",
              "  ('specialists', 0.6656395196914673),\n",
              "  ('contractors', 0.6588478088378906)]]"
            ]
          },
          "metadata": {},
          "execution_count": 10
        }
      ]
    },
    {
      "cell_type": "code",
      "source": [],
      "metadata": {
        "id": "Z3v_4rgRcYnN"
      },
      "execution_count": null,
      "outputs": []
    }
  ]
}